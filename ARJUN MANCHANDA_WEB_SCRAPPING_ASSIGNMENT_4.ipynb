{
 "cells": [
  {
   "cell_type": "markdown",
   "id": "7f18d707",
   "metadata": {},
   "source": [
    "#### Q1 - 1. Scrape the details of most viewed videos on YouTube from Wikipedia:\n",
    "Url = https://en.wikipedia.org/wiki/List_of_most-viewed_YouTube_videos/\n",
    "You need to find following details:\n",
    "A) Rank\n",
    "B) Name\n",
    "C) Artist\n",
    "D) Upload date\n",
    "E) Views"
   ]
  },
  {
   "cell_type": "code",
   "execution_count": 1,
   "id": "0f885ff5",
   "metadata": {},
   "outputs": [],
   "source": [
    "import selenium\n",
    "import pandas as pd\n",
    "from selenium import webdriver\n",
    "from selenium.common.exceptions import NoSuchElementException,NoSuchFrameException\n",
    "import time"
   ]
  },
  {
   "cell_type": "code",
   "execution_count": 4,
   "id": "c801d995",
   "metadata": {
    "scrolled": true
   },
   "outputs": [
    {
     "name": "stderr",
     "output_type": "stream",
     "text": [
      "<ipython-input-4-e18b74fce104>:1: DeprecationWarning: executable_path has been deprecated, please pass in a Service object\n",
      "  driver = webdriver.Chrome(r\"C:/Users/91956/Downloads/chromedriver_win32/chromedriver.exe\")\n"
     ]
    }
   ],
   "source": [
    "driver = webdriver.Chrome(r\"C:/Users/91956/Downloads/chromedriver_win32/chromedriver.exe\")"
   ]
  },
  {
   "cell_type": "code",
   "execution_count": 5,
   "id": "f7730b79",
   "metadata": {},
   "outputs": [],
   "source": [
    "url = 'https://en.wikipedia.org/wiki/List_of_most-viewed_YouTube_videos/'\n",
    "driver.get(url)"
   ]
  },
  {
   "cell_type": "code",
   "execution_count": 6,
   "id": "ba695c7b",
   "metadata": {},
   "outputs": [
    {
     "name": "stderr",
     "output_type": "stream",
     "text": [
      "<ipython-input-6-b03f97c9c729>:2: DeprecationWarning: find_element_by_* commands are deprecated. Please use find_element() instead\n",
      "  webElement = driver.find_element_by_xpath('/html/body/div[3]/div[3]/div[5]/div[1]/table/tbody/tr/td/ul/li[2]/span/a')\n"
     ]
    }
   ],
   "source": [
    "try:\n",
    "    webElement = driver.find_element_by_xpath('/html/body/div[3]/div[3]/div[5]/div[1]/table/tbody/tr/td/ul/li[2]/span/a')\n",
    "    webElement.click()\n",
    "except NoSuchElementException as exception:\n",
    "    print (\"Element not found and test failed\")"
   ]
  },
  {
   "cell_type": "code",
   "execution_count": 7,
   "id": "833ac785",
   "metadata": {},
   "outputs": [
    {
     "name": "stderr",
     "output_type": "stream",
     "text": [
      "<ipython-input-7-9826b5d7d561>:2: DeprecationWarning: find_element_by_* commands are deprecated. Please use find_element() instead\n",
      "  element = driver.find_element_by_xpath('/html/body/div[3]/div[3]/div[4]/div[3]/ul/li[1]/div[1]')\n"
     ]
    }
   ],
   "source": [
    "try:\n",
    "    element = driver.find_element_by_xpath('/html/body/div[3]/div[3]/div[4]/div[3]/ul/li[1]/div[1]')\n",
    "    element.click()\n",
    "except NoSuchElementException as exception:\n",
    "    print(\"No element Found\")"
   ]
  },
  {
   "cell_type": "code",
   "execution_count": 9,
   "id": "a6141d55",
   "metadata": {},
   "outputs": [
    {
     "name": "stderr",
     "output_type": "stream",
     "text": [
      "<ipython-input-9-e1e506f3736c>:11: DeprecationWarning: find_elements_by_* commands are deprecated. Please use find_elements() instead\n",
      "  Rank_tr = driver.find_elements_by_xpath('/html/body/div[3]/div[3]/div[5]/div[1]/table[3]/tbody/tr/td[1]')\n",
      "<ipython-input-9-e1e506f3736c>:20: DeprecationWarning: find_elements_by_* commands are deprecated. Please use find_elements() instead\n",
      "  Name_tr = driver.find_elements_by_xpath('/html/body/div[3]/div[3]/div[5]/div[1]/table[3]/tbody/tr/td[2]/a')\n",
      "<ipython-input-9-e1e506f3736c>:29: DeprecationWarning: find_elements_by_* commands are deprecated. Please use find_elements() instead\n",
      "  artist_tr = driver.find_elements_by_xpath('/html/body/div[3]/div[3]/div[5]/div[1]/table[3]/tbody/tr/td[3]/a')\n",
      "<ipython-input-9-e1e506f3736c>:39: DeprecationWarning: find_elements_by_* commands are deprecated. Please use find_elements() instead\n",
      "  view_tr = driver.find_elements_by_xpath('/html/body/div[3]/div[3]/div[5]/div[1]/table[3]/tbody/tr/td[4]')\n",
      "<ipython-input-9-e1e506f3736c>:48: DeprecationWarning: find_elements_by_* commands are deprecated. Please use find_elements() instead\n",
      "  upload_dates = driver.find_elements_by_xpath('/html/body/div[3]/div[3]/div[5]/div[1]/table[3]/tbody/tr/td[5]')\n"
     ]
    }
   ],
   "source": [
    "#initializing list\n",
    "rank = []\n",
    "names = []\n",
    "artist = []\n",
    "upload_date = []\n",
    "view = []\n",
    "\n",
    "\n",
    "#scraping Rank\n",
    "try: \n",
    "    Rank_tr = driver.find_elements_by_xpath('/html/body/div[3]/div[3]/div[5]/div[1]/table[3]/tbody/tr/td[1]')\n",
    "    for i in Rank_tr:\n",
    "        rank.append(i.text)\n",
    "except NoSuchElementException:\n",
    "    rank.append('-')\n",
    "\n",
    "\n",
    "#scraping Name\n",
    "try:\n",
    "    Name_tr = driver.find_elements_by_xpath('/html/body/div[3]/div[3]/div[5]/div[1]/table[3]/tbody/tr/td[2]/a')\n",
    "    for j in Name_tr:\n",
    "        names.append(j.text)\n",
    "except NoSuchElementException:\n",
    "    names.append('-')\n",
    "    \n",
    "#scraping Artist\n",
    "\n",
    "try:\n",
    "    artist_tr = driver.find_elements_by_xpath('/html/body/div[3]/div[3]/div[5]/div[1]/table[3]/tbody/tr/td[3]/a')\n",
    "    for a in artist_tr:\n",
    "        artist.append(a.text)\n",
    "except NoSuchElementException:\n",
    "    artist.append('-')\n",
    "\n",
    "    \n",
    "#scraping view\n",
    "\n",
    "try:\n",
    "    view_tr = driver.find_elements_by_xpath('/html/body/div[3]/div[3]/div[5]/div[1]/table[3]/tbody/tr/td[4]')\n",
    "    for i in view_tr:\n",
    "        view.append(i.text)\n",
    "except NoSuchElementException:\n",
    "    view.append('-')\n",
    "    \n",
    "#scrapin upload date\n",
    "\n",
    "try:\n",
    "    upload_dates = driver.find_elements_by_xpath('/html/body/div[3]/div[3]/div[5]/div[1]/table[3]/tbody/tr/td[5]')\n",
    "    for i in upload_dates:\n",
    "        upload_date.append(i.text)\n",
    "except NoSuchElementException:\n",
    "    upload_date.append('-')"
   ]
  },
  {
   "cell_type": "code",
   "execution_count": 10,
   "id": "91dcaba5",
   "metadata": {},
   "outputs": [
    {
     "data": {
      "text/plain": [
       "['1.',\n",
       " '2.',\n",
       " '3.',\n",
       " '4.',\n",
       " '5.',\n",
       " '6.',\n",
       " '7.',\n",
       " '8.',\n",
       " '9.',\n",
       " '10.',\n",
       " '11.',\n",
       " '12.',\n",
       " '13.',\n",
       " '14.',\n",
       " '15.',\n",
       " '16.',\n",
       " '17.',\n",
       " '18.',\n",
       " '19.',\n",
       " '20.',\n",
       " '21.',\n",
       " '22.',\n",
       " '23.',\n",
       " '24.',\n",
       " '25.',\n",
       " '26.',\n",
       " '27.',\n",
       " '28.',\n",
       " '29.',\n",
       " '30.']"
      ]
     },
     "execution_count": 10,
     "metadata": {},
     "output_type": "execute_result"
    }
   ],
   "source": [
    "rank"
   ]
  },
  {
   "cell_type": "code",
   "execution_count": 11,
   "id": "d2e66642",
   "metadata": {},
   "outputs": [
    {
     "data": {
      "text/plain": [
       "['Baby Shark Dance',\n",
       " 'Despacito',\n",
       " 'Johny Johny Yes Papa',\n",
       " 'Shape of You',\n",
       " 'See You Again',\n",
       " 'Uptown Funk',\n",
       " 'Gangnam Style',\n",
       " 'Dame Tu Cosita',\n",
       " 'Sugar',\n",
       " 'Sorry',\n",
       " 'Roar',\n",
       " 'Counting Stars',\n",
       " 'Thinking Out Loud',\n",
       " 'Girls Like You',\n",
       " 'Faded',\n",
       " 'Dark Horse',\n",
       " 'Axel F',\n",
       " 'Let Her Go',\n",
       " 'Bailando',\n",
       " 'Lean On',\n",
       " 'Shake It Off',\n",
       " 'Perfect',\n",
       " 'Waka Waka (This Time for Africa)',\n",
       " 'Mi Gente']"
      ]
     },
     "execution_count": 11,
     "metadata": {},
     "output_type": "execute_result"
    }
   ],
   "source": [
    "names"
   ]
  },
  {
   "cell_type": "code",
   "execution_count": null,
   "id": "a51f9438",
   "metadata": {},
   "outputs": [],
   "source": []
  },
  {
   "cell_type": "code",
   "execution_count": 154,
   "id": "4237c2bb",
   "metadata": {},
   "outputs": [
    {
     "data": {
      "text/plain": [
       "['June 17, 2016',\n",
       " 'January 12, 2017',\n",
       " 'October 8, 2016',\n",
       " 'January 30, 2017',\n",
       " 'April 6, 2015',\n",
       " 'January 31, 2012',\n",
       " 'May 2, 2018',\n",
       " 'February 27, 2018',\n",
       " 'November 19, 2014',\n",
       " 'July 15, 2012',\n",
       " 'March 6, 2014',\n",
       " 'January 14, 2015',\n",
       " 'April 5, 2018',\n",
       " 'October 22, 2015',\n",
       " 'September 5, 2013',\n",
       " 'May 31, 2013',\n",
       " 'October 7, 2014',\n",
       " 'May 24, 2018',\n",
       " 'February 20, 2014',\n",
       " 'December 3, 2015',\n",
       " 'August 18, 2014',\n",
       " 'May 31, 2018',\n",
       " 'March 22, 2015',\n",
       " 'April 11, 2014',\n",
       " 'July 25, 2012',\n",
       " 'June 29, 2017',\n",
       " 'November 9, 2017',\n",
       " 'June 4, 2010',\n",
       " 'June 16, 2009',\n",
       " 'October 22, 2015']"
      ]
     },
     "execution_count": 154,
     "metadata": {},
     "output_type": "execute_result"
    }
   ],
   "source": [
    "upload_date"
   ]
  },
  {
   "cell_type": "code",
   "execution_count": 173,
   "id": "5962bf45",
   "metadata": {},
   "outputs": [
    {
     "data": {
      "text/plain": [
       "[\"Pinkfong Kids' Songs & Stories\",\n",
       " 'Luis Fonsi',\n",
       " 'Ed Sheeran',\n",
       " 'Wiz Khalifa',\n",
       " 'Cocomelon – Nursery Rhymes',\n",
       " 'Mark Ronson',\n",
       " 'Psy',\n",
       " 'ChuChu TV',\n",
       " 'Maroon 5',\n",
       " 'El Chombo',\n",
       " 'Justin Bieber',\n",
       " 'Katy Perry',\n",
       " 'OneRepublic',\n",
       " 'Ed Sheeran',\n",
       " 'Cocomelon – Nursery Rhymes',\n",
       " 'Katy Perry',\n",
       " 'Alan Walker',\n",
       " 'Taylor Swift',\n",
       " 'Maroon 5',\n",
       " 'Major Lazer',\n",
       " 'Enrique Iglesias',\n",
       " 'Passenger',\n",
       " 'J Balvin',\n",
       " 'Ed Sheeran',\n",
       " 'Shakira',\n",
       " 'Crazy Frog',\n",
       " 'Adele']"
      ]
     },
     "execution_count": 173,
     "metadata": {},
     "output_type": "execute_result"
    }
   ],
   "source": [
    "artist"
   ]
  },
  {
   "cell_type": "code",
   "execution_count": 174,
   "id": "1f7e6fe1",
   "metadata": {},
   "outputs": [
    {
     "data": {
      "text/plain": [
       "['8.96',\n",
       " '7.44',\n",
       " '5.55',\n",
       " '5.38',\n",
       " '5.18',\n",
       " '4.44',\n",
       " '4.31',\n",
       " '4.26',\n",
       " '4.23',\n",
       " '4.12',\n",
       " '3.99',\n",
       " '3.51',\n",
       " '3.46',\n",
       " '3.45',\n",
       " '3.39',\n",
       " '3.34',\n",
       " '3.29',\n",
       " '3.15',\n",
       " '3.10',\n",
       " '3.10',\n",
       " '3.07',\n",
       " '3.07',\n",
       " '3.06',\n",
       " '3.06',\n",
       " '3.03',\n",
       " '2.94',\n",
       " '2.90',\n",
       " '2.88',\n",
       " '2.88',\n",
       " '2.85']"
      ]
     },
     "execution_count": 174,
     "metadata": {},
     "output_type": "execute_result"
    }
   ],
   "source": [
    "view"
   ]
  },
  {
   "cell_type": "code",
   "execution_count": null,
   "id": "8b24051c",
   "metadata": {},
   "outputs": [],
   "source": []
  },
  {
   "cell_type": "markdown",
   "id": "94842626",
   "metadata": {},
   "source": [
    "Q2 Scrape the details team India’s international fixtures from bcci.tv.\n",
    "\n",
    "Url = https://www.bcci.tv/.\n",
    "You need to find following details:\n",
    "A) Match title (I.e. 1st ODI)\n",
    "B) Series\n",
    "C) Place\n",
    "D) Date\n",
    "E) Time\n",
    "Note: - From bcci.tv home page you have reach to the international fixture page through code."
   ]
  },
  {
   "cell_type": "code",
   "execution_count": 12,
   "id": "736c3c6d",
   "metadata": {},
   "outputs": [],
   "source": [
    "url = 'https://www.bcci.tv/'\n",
    "driver.get(url)"
   ]
  },
  {
   "cell_type": "code",
   "execution_count": 13,
   "id": "e2a409dc",
   "metadata": {},
   "outputs": [
    {
     "name": "stdout",
     "output_type": "stream",
     "text": [
      "No element Found\n"
     ]
    },
    {
     "name": "stderr",
     "output_type": "stream",
     "text": [
      "<ipython-input-13-ca36422e0618>:2: DeprecationWarning: find_element_by_* commands are deprecated. Please use find_element() instead\n",
      "  webElement = driver.find_element_by_xpath('/html/body/div[3]/div/div[2]/div[2]/nav/ul/li[1]/div[2]/div/ul/li[1]/a').get_attribute('href')\n"
     ]
    }
   ],
   "source": [
    "try:\n",
    "    webElement = driver.find_element_by_xpath('/html/body/div[3]/div/div[2]/div[2]/nav/ul/li[1]/div[2]/div/ul/li[1]/a').get_attribute('href')\n",
    "    print(webElement)\n",
    "    driver.get(webElement)\n",
    "except NoSuchElementException:\n",
    "    print('No element Found')"
   ]
  },
  {
   "cell_type": "code",
   "execution_count": 14,
   "id": "2d35455e",
   "metadata": {},
   "outputs": [
    {
     "name": "stderr",
     "output_type": "stream",
     "text": [
      "<ipython-input-14-b3221d8fb864>:3: DeprecationWarning: find_elements_by_* commands are deprecated. Please use find_elements() instead\n",
      "  url = driver.find_elements_by_xpath('/html/body/div[4]/div/div/div[2]/section/div/div/a')\n"
     ]
    }
   ],
   "source": [
    "match_url = []\n",
    "#### scrap the link \n",
    "url = driver.find_elements_by_xpath('/html/body/div[4]/div/div/div[2]/section/div/div/a')\n",
    "for i in url:\n",
    "    match_url.append(i.get_attribute('href'))\n",
    "\n",
    "match_title = []\n",
    "series =[]\n",
    "place = []\n",
    "Date = []\n",
    "Time = []\n",
    "for urls in match_url:\n",
    "    driver.get(urls)\n",
    "    \n",
    "    \n",
    "    try:\n",
    "        get_title = driver.find_element_by_xpath('/html/body/div[2]/div/header/div/div[1]/div/p/span')\n",
    "        match_title.append(get_title.text)\n",
    "        matches = driver.find_element_by_xpath('/html/body/div[2]/div/div[2]/section[3]/div/ul/li[1]/span[2]')\n",
    "        series.append(matches.text)\n",
    "    except NoSuchElementException:\n",
    "        match_title.append('-')\n",
    "        series.append('-')\n",
    "\n",
    "    try:\n",
    "        venue = driver.find_element_by_xpath('/html/body/div[2]/div/div[2]/section[3]/div/ul/li[3]/span[2]')\n",
    "        place.append(venue.text)\n",
    "    except NoSuchElementException:\n",
    "        place.append('-')\n",
    "    try:\n",
    "        date = driver.find_element_by_xpath('/html/body/div[2]/div/header/div/div[2]/div/div[4]/strong')\n",
    "        Date.append(date.text)\n",
    "    except NoSuchElementException:\n",
    "        Date.append('-')\n",
    "    try:\n",
    "        time = driver.find_element_by_xpath('/html/body/div[2]/div/header/div/div[2]/div/div[4]/span[1]')\n",
    "        Time.append(time.text)\n",
    "    except NoSuchElementException:\n",
    "        Time.append('-')   "
   ]
  },
  {
   "cell_type": "code",
   "execution_count": 15,
   "id": "0e1be256",
   "metadata": {},
   "outputs": [
    {
     "data": {
      "text/html": [
       "<div>\n",
       "<style scoped>\n",
       "    .dataframe tbody tr th:only-of-type {\n",
       "        vertical-align: middle;\n",
       "    }\n",
       "\n",
       "    .dataframe tbody tr th {\n",
       "        vertical-align: top;\n",
       "    }\n",
       "\n",
       "    .dataframe thead th {\n",
       "        text-align: right;\n",
       "    }\n",
       "</style>\n",
       "<table border=\"1\" class=\"dataframe\">\n",
       "  <thead>\n",
       "    <tr style=\"text-align: right;\">\n",
       "      <th></th>\n",
       "      <th>match_title</th>\n",
       "      <th>series</th>\n",
       "      <th>place</th>\n",
       "      <th>date</th>\n",
       "      <th>time</th>\n",
       "    </tr>\n",
       "  </thead>\n",
       "  <tbody>\n",
       "  </tbody>\n",
       "</table>\n",
       "</div>"
      ],
      "text/plain": [
       "Empty DataFrame\n",
       "Columns: [match_title, series, place, date, time]\n",
       "Index: []"
      ]
     },
     "execution_count": 15,
     "metadata": {},
     "output_type": "execute_result"
    }
   ],
   "source": [
    "pd.DataFrame({\n",
    "    'match_title':match_title,\n",
    "    'series':series,\n",
    "    'place':place,\n",
    "    'date':Date,\n",
    "    'time':Time\n",
    "})"
   ]
  },
  {
   "cell_type": "code",
   "execution_count": null,
   "id": "326178aa",
   "metadata": {},
   "outputs": [],
   "source": []
  },
  {
   "cell_type": "markdown",
   "id": "74e446f6",
   "metadata": {},
   "source": [
    "Q3. Scrape the details of selenium exception from guru99.com.\n",
    "Url = https://www.guru99.com/\n",
    "You need to find following details:\n",
    "A) Name\n",
    "B) Description\n",
    "Note: - From guru99 home page you have to reach to selenium exception handling page through code."
   ]
  },
  {
   "cell_type": "code",
   "execution_count": 16,
   "id": "05d6388a",
   "metadata": {},
   "outputs": [
    {
     "name": "stdout",
     "output_type": "stream",
     "text": [
      "No Element Found\n",
      "No Element Found\n"
     ]
    },
    {
     "name": "stderr",
     "output_type": "stream",
     "text": [
      "<ipython-input-16-d2add33e15c0>:5: DeprecationWarning: find_element_by_* commands are deprecated. Please use find_element() instead\n",
      "  link = driver.find_element_by_xpath('/html/body/div[2]/section[4]/div/div/div/div/div/div/div/div[1]/div/ul[1]/li[3]/a')\n",
      "<ipython-input-16-d2add33e15c0>:11: DeprecationWarning: find_element_by_* commands are deprecated. Please use find_element() instead\n",
      "  tutorial = driver.find_element_by_xpath('/html/body/div[2]/section[3]/div/div[1]/main/div/div/div/div/div/div/div[2]/table[5]/tbody/tr[34]/td[1]/a')\n"
     ]
    }
   ],
   "source": [
    "url ='https://www.guru99.com/'\n",
    "driver.get(url)\n",
    "\n",
    "try:\n",
    "    link = driver.find_element_by_xpath('/html/body/div[2]/section[4]/div/div/div/div/div/div/div/div[1]/div/ul[1]/li[3]/a')\n",
    "    link.click()\n",
    "except NoSuchElementException:\n",
    "        print('No Element Found')    \n",
    "\n",
    "try:\n",
    "    tutorial = driver.find_element_by_xpath('/html/body/div[2]/section[3]/div/div[1]/main/div/div/div/div/div/div/div[2]/table[5]/tbody/tr[34]/td[1]/a')\n",
    "    tutorial.click()\n",
    "except NoSuchElementException:\n",
    "        print('No Element Found')    \n"
   ]
  },
  {
   "cell_type": "code",
   "execution_count": 17,
   "id": "39062f28",
   "metadata": {},
   "outputs": [
    {
     "name": "stderr",
     "output_type": "stream",
     "text": [
      "<ipython-input-17-8f1655457dbb>:3: DeprecationWarning: find_elements_by_* commands are deprecated. Please use find_elements() instead\n",
      "  Name = driver.find_elements_by_xpath('/html/body/div[2]/section[3]/div/div[1]/main/div/div/div/div/div/div/div[2]/table/tbody/tr/td[1]')\n"
     ]
    }
   ],
   "source": [
    "try:\n",
    "    exception_name = []\n",
    "    Name = driver.find_elements_by_xpath('/html/body/div[2]/section[3]/div/div[1]/main/div/div/div/div/div/div/div[2]/table/tbody/tr/td[1]')\n",
    "    for i in Name:\n",
    "        try:\n",
    "            exception_name.append(i.text)\n",
    "        except NoSuchElementException:\n",
    "            exception_name.append('-')\n",
    "except NoSuchElementException:\n",
    "        print('No Element Found')"
   ]
  },
  {
   "cell_type": "code",
   "execution_count": 18,
   "id": "e2d8ef61",
   "metadata": {},
   "outputs": [
    {
     "name": "stderr",
     "output_type": "stream",
     "text": [
      "<ipython-input-18-863482c9546b>:3: DeprecationWarning: find_elements_by_* commands are deprecated. Please use find_elements() instead\n",
      "  desc = driver.find_elements_by_xpath('/html/body/div[2]/section[3]/div/div[1]/main/div/div/div/div/div/div/div[2]/table/tbody/tr/td[2]')\n"
     ]
    }
   ],
   "source": [
    "try:\n",
    "    Description = []\n",
    "    desc = driver.find_elements_by_xpath('/html/body/div[2]/section[3]/div/div[1]/main/div/div/div/div/div/div/div[2]/table/tbody/tr/td[2]')\n",
    "    for i in desc:\n",
    "        try:\n",
    "            Description.append(i.text)\n",
    "        except NoSuchElementException:\n",
    "            exception_name.append('-')\n",
    "except NoSuchElementException:\n",
    "        print('No Element Found')"
   ]
  },
  {
   "cell_type": "code",
   "execution_count": 19,
   "id": "e0920ac1",
   "metadata": {},
   "outputs": [
    {
     "data": {
      "text/html": [
       "<div>\n",
       "<style scoped>\n",
       "    .dataframe tbody tr th:only-of-type {\n",
       "        vertical-align: middle;\n",
       "    }\n",
       "\n",
       "    .dataframe tbody tr th {\n",
       "        vertical-align: top;\n",
       "    }\n",
       "\n",
       "    .dataframe thead th {\n",
       "        text-align: right;\n",
       "    }\n",
       "</style>\n",
       "<table border=\"1\" class=\"dataframe\">\n",
       "  <thead>\n",
       "    <tr style=\"text-align: right;\">\n",
       "      <th></th>\n",
       "      <th>Exception Name</th>\n",
       "      <th>Description</th>\n",
       "    </tr>\n",
       "  </thead>\n",
       "  <tbody>\n",
       "  </tbody>\n",
       "</table>\n",
       "</div>"
      ],
      "text/plain": [
       "Empty DataFrame\n",
       "Columns: [Exception Name, Description]\n",
       "Index: []"
      ]
     },
     "execution_count": 19,
     "metadata": {},
     "output_type": "execute_result"
    }
   ],
   "source": [
    "pd.DataFrame({\n",
    "    'Exception Name':exception_name,\n",
    "    'Description':Description\n",
    "})"
   ]
  },
  {
   "cell_type": "markdown",
   "id": "2d210709",
   "metadata": {},
   "source": [
    "Q4. Scrape the details of State-wise GDP of India from statisticstime.com.\n",
    "Url = http://statisticstimes.com/\n",
    "You have to find following details:\n",
    "A) Rank\n",
    "B) State\n",
    "C) GSDP at current price (19-20)\n",
    "D) GSDP at current price (18-19)\n",
    "E) Share(18-19)\n",
    "F) GDP($ billion)\n",
    "Note: - From statisticstimes home page you have to reach to economy page through code."
   ]
  },
  {
   "cell_type": "code",
   "execution_count": 20,
   "id": "aa00672c",
   "metadata": {},
   "outputs": [],
   "source": [
    "url = 'http://statisticstimes.com/'\n",
    "driver.get(url)"
   ]
  },
  {
   "cell_type": "code",
   "execution_count": 21,
   "id": "ca79e010",
   "metadata": {},
   "outputs": [
    {
     "name": "stderr",
     "output_type": "stream",
     "text": [
      "<ipython-input-21-94cc24de3168>:2: DeprecationWarning: find_element_by_* commands are deprecated. Please use find_element() instead\n",
      "  economy_page = driver.find_element_by_xpath('/html/body/div[2]/div[1]/div[2]/div[2]/div/a[3]').get_attribute('href')\n"
     ]
    }
   ],
   "source": [
    "try:\n",
    "    economy_page = driver.find_element_by_xpath('/html/body/div[2]/div[1]/div[2]/div[2]/div/a[3]').get_attribute('href')\n",
    "    driver.get(economy_page)\n",
    "except NoSuchElementException:\n",
    "    print(\"No Element\")"
   ]
  },
  {
   "cell_type": "code",
   "execution_count": null,
   "id": "9043dd57",
   "metadata": {},
   "outputs": [],
   "source": [
    "try:\n",
    "    indian_state = driver.find_element_by_xpath('/html/body/div[2]/div[2]/div[2]/ul/li[1]/a').get_attribute('href')\n",
    "    driver.get(indian_state)\n",
    "except NoSuchElementException:\n",
    "    print(\"No ELement\")"
   ]
  },
  {
   "cell_type": "code",
   "execution_count": 23,
   "id": "99ca4b9a",
   "metadata": {},
   "outputs": [
    {
     "name": "stderr",
     "output_type": "stream",
     "text": [
      "<ipython-input-23-d501cc52003c>:3: DeprecationWarning: find_elements_by_* commands are deprecated. Please use find_elements() instead\n",
      "  rank_elem = driver.find_elements_by_xpath('/html/body/div[3]/div[2]/div[5]/div[1]/div/table/tbody/tr/td[1]')\n",
      "<ipython-input-23-d501cc52003c>:11: DeprecationWarning: find_elements_by_* commands are deprecated. Please use find_elements() instead\n",
      "  state_elem = driver.find_elements_by_xpath('/html/body/div[3]/div[2]/div[5]/div[1]/div/table/tbody/tr/td[2]')\n",
      "<ipython-input-23-d501cc52003c>:19: DeprecationWarning: find_elements_by_* commands are deprecated. Please use find_elements() instead\n",
      "  elem = driver.find_elements_by_xpath('/html/body/div[3]/div[2]/div[5]/div[1]/div/table/tbody/tr/td[3]')\n",
      "<ipython-input-23-d501cc52003c>:26: DeprecationWarning: find_elements_by_* commands are deprecated. Please use find_elements() instead\n",
      "  element = driver.find_elements_by_xpath('/html/body/div[3]/div[2]/div[5]/div[1]/div/table/tbody/tr/td[4]')\n",
      "<ipython-input-23-d501cc52003c>:34: DeprecationWarning: find_elements_by_* commands are deprecated. Please use find_elements() instead\n",
      "  element_share = driver.find_elements_by_xpath('/html/body/div[3]/div[2]/div[5]/div[1]/div/table/tbody/tr/td[5]')\n",
      "<ipython-input-23-d501cc52003c>:42: DeprecationWarning: find_elements_by_* commands are deprecated. Please use find_elements() instead\n",
      "  element_bil = driver.find_elements_by_xpath('/html/body/div[3]/div[2]/div[5]/div[1]/div/table/tbody/tr/td[6]')\n"
     ]
    }
   ],
   "source": [
    "Rank = []\n",
    "\n",
    "rank_elem = driver.find_elements_by_xpath('/html/body/div[3]/div[2]/div[5]/div[1]/div/table/tbody/tr/td[1]')\n",
    "for i in rank_elem:\n",
    "    try:\n",
    "        Rank.append(i.text)\n",
    "    except NoSuchElementException:\n",
    "        Rank.append('-')\n",
    "\n",
    "State = []\n",
    "state_elem = driver.find_elements_by_xpath('/html/body/div[3]/div[2]/div[5]/div[1]/div/table/tbody/tr/td[2]')\n",
    "for i in state_elem:\n",
    "    try:\n",
    "        State.append(i.text)\n",
    "    except NoSuchElementException:\n",
    "        State.append('-')\n",
    "\n",
    "gspd1920 = []\n",
    "elem = driver.find_elements_by_xpath('/html/body/div[3]/div[2]/div[5]/div[1]/div/table/tbody/tr/td[3]')\n",
    "for i in elem:\n",
    "    try:\n",
    "        gspd1920.append(i.text)\n",
    "    except NoSuchElementException:\n",
    "        gspd1920.append('-')\n",
    "gspd1819 = []\n",
    "element = driver.find_elements_by_xpath('/html/body/div[3]/div[2]/div[5]/div[1]/div/table/tbody/tr/td[4]')\n",
    "for i in element:\n",
    "    try:\n",
    "        gspd1819.append(i.text)\n",
    "    except NoSuchElementException:\n",
    "        gspd1819.append('-')\n",
    "\n",
    "share = []\n",
    "element_share = driver.find_elements_by_xpath('/html/body/div[3]/div[2]/div[5]/div[1]/div/table/tbody/tr/td[5]')\n",
    "for i in element_share:\n",
    "    try:\n",
    "        share.append(i.text)\n",
    "    except NoSuchElementException:\n",
    "        share.append('-')\n",
    "\n",
    "billion = []\n",
    "element_bil = driver.find_elements_by_xpath('/html/body/div[3]/div[2]/div[5]/div[1]/div/table/tbody/tr/td[6]')\n",
    "for i in element_bil:\n",
    "    try:\n",
    "        billion.append(i.text)\n",
    "    except NoSuchElementException:\n",
    "        billion.append('-')\n",
    "        "
   ]
  },
  {
   "cell_type": "code",
   "execution_count": 24,
   "id": "2c078fce",
   "metadata": {},
   "outputs": [
    {
     "data": {
      "text/html": [
       "<div>\n",
       "<style scoped>\n",
       "    .dataframe tbody tr th:only-of-type {\n",
       "        vertical-align: middle;\n",
       "    }\n",
       "\n",
       "    .dataframe tbody tr th {\n",
       "        vertical-align: top;\n",
       "    }\n",
       "\n",
       "    .dataframe thead th {\n",
       "        text-align: right;\n",
       "    }\n",
       "</style>\n",
       "<table border=\"1\" class=\"dataframe\">\n",
       "  <thead>\n",
       "    <tr style=\"text-align: right;\">\n",
       "      <th></th>\n",
       "      <th>Rank</th>\n",
       "      <th>Sate</th>\n",
       "      <th>GSDP (Cr INR at Current prices 19-20)</th>\n",
       "      <th>GSDP (Cr INR at Current prices 18-19)</th>\n",
       "      <th>Share</th>\n",
       "      <th>Billion</th>\n",
       "    </tr>\n",
       "  </thead>\n",
       "  <tbody>\n",
       "    <tr>\n",
       "      <th>0</th>\n",
       "      <td>1</td>\n",
       "      <td>Maharashtra</td>\n",
       "      <td>-</td>\n",
       "      <td>2,632,792</td>\n",
       "      <td>13.94%</td>\n",
       "      <td>399.921</td>\n",
       "    </tr>\n",
       "    <tr>\n",
       "      <th>1</th>\n",
       "      <td>2</td>\n",
       "      <td>Tamil Nadu</td>\n",
       "      <td>1,845,853</td>\n",
       "      <td>1,630,208</td>\n",
       "      <td>8.63%</td>\n",
       "      <td>247.629</td>\n",
       "    </tr>\n",
       "    <tr>\n",
       "      <th>2</th>\n",
       "      <td>3</td>\n",
       "      <td>Uttar Pradesh</td>\n",
       "      <td>1,687,818</td>\n",
       "      <td>1,584,764</td>\n",
       "      <td>8.39%</td>\n",
       "      <td>240.726</td>\n",
       "    </tr>\n",
       "    <tr>\n",
       "      <th>3</th>\n",
       "      <td>4</td>\n",
       "      <td>Gujarat</td>\n",
       "      <td>-</td>\n",
       "      <td>1,502,899</td>\n",
       "      <td>7.96%</td>\n",
       "      <td>228.290</td>\n",
       "    </tr>\n",
       "    <tr>\n",
       "      <th>4</th>\n",
       "      <td>5</td>\n",
       "      <td>Karnataka</td>\n",
       "      <td>1,631,977</td>\n",
       "      <td>1,493,127</td>\n",
       "      <td>7.91%</td>\n",
       "      <td>226.806</td>\n",
       "    </tr>\n",
       "    <tr>\n",
       "      <th>5</th>\n",
       "      <td>6</td>\n",
       "      <td>West Bengal</td>\n",
       "      <td>1,253,832</td>\n",
       "      <td>1,089,898</td>\n",
       "      <td>5.77%</td>\n",
       "      <td>165.556</td>\n",
       "    </tr>\n",
       "    <tr>\n",
       "      <th>6</th>\n",
       "      <td>7</td>\n",
       "      <td>Rajasthan</td>\n",
       "      <td>1,020,989</td>\n",
       "      <td>942,586</td>\n",
       "      <td>4.99%</td>\n",
       "      <td>143.179</td>\n",
       "    </tr>\n",
       "    <tr>\n",
       "      <th>7</th>\n",
       "      <td>8</td>\n",
       "      <td>Andhra Pradesh</td>\n",
       "      <td>972,782</td>\n",
       "      <td>862,957</td>\n",
       "      <td>4.57%</td>\n",
       "      <td>131.083</td>\n",
       "    </tr>\n",
       "    <tr>\n",
       "      <th>8</th>\n",
       "      <td>9</td>\n",
       "      <td>Telangana</td>\n",
       "      <td>969,604</td>\n",
       "      <td>861,031</td>\n",
       "      <td>4.56%</td>\n",
       "      <td>130.791</td>\n",
       "    </tr>\n",
       "    <tr>\n",
       "      <th>9</th>\n",
       "      <td>10</td>\n",
       "      <td>Madhya Pradesh</td>\n",
       "      <td>906,672</td>\n",
       "      <td>809,592</td>\n",
       "      <td>4.29%</td>\n",
       "      <td>122.977</td>\n",
       "    </tr>\n",
       "    <tr>\n",
       "      <th>10</th>\n",
       "      <td>11</td>\n",
       "      <td>Kerala</td>\n",
       "      <td>-</td>\n",
       "      <td>781,653</td>\n",
       "      <td>4.14%</td>\n",
       "      <td>118.733</td>\n",
       "    </tr>\n",
       "    <tr>\n",
       "      <th>11</th>\n",
       "      <td>12</td>\n",
       "      <td>Delhi</td>\n",
       "      <td>856,112</td>\n",
       "      <td>774,870</td>\n",
       "      <td>4.10%</td>\n",
       "      <td>117.703</td>\n",
       "    </tr>\n",
       "    <tr>\n",
       "      <th>12</th>\n",
       "      <td>13</td>\n",
       "      <td>Haryana</td>\n",
       "      <td>831,610</td>\n",
       "      <td>734,163</td>\n",
       "      <td>3.89%</td>\n",
       "      <td>111.519</td>\n",
       "    </tr>\n",
       "    <tr>\n",
       "      <th>13</th>\n",
       "      <td>14</td>\n",
       "      <td>Bihar</td>\n",
       "      <td>611,804</td>\n",
       "      <td>530,363</td>\n",
       "      <td>2.81%</td>\n",
       "      <td>80.562</td>\n",
       "    </tr>\n",
       "    <tr>\n",
       "      <th>14</th>\n",
       "      <td>15</td>\n",
       "      <td>Punjab</td>\n",
       "      <td>574,760</td>\n",
       "      <td>526,376</td>\n",
       "      <td>2.79%</td>\n",
       "      <td>79.957</td>\n",
       "    </tr>\n",
       "    <tr>\n",
       "      <th>15</th>\n",
       "      <td>16</td>\n",
       "      <td>Odisha</td>\n",
       "      <td>521,275</td>\n",
       "      <td>487,805</td>\n",
       "      <td>2.58%</td>\n",
       "      <td>74.098</td>\n",
       "    </tr>\n",
       "    <tr>\n",
       "      <th>16</th>\n",
       "      <td>17</td>\n",
       "      <td>Assam</td>\n",
       "      <td>-</td>\n",
       "      <td>315,881</td>\n",
       "      <td>1.67%</td>\n",
       "      <td>47.982</td>\n",
       "    </tr>\n",
       "    <tr>\n",
       "      <th>17</th>\n",
       "      <td>18</td>\n",
       "      <td>Chhattisgarh</td>\n",
       "      <td>329,180</td>\n",
       "      <td>304,063</td>\n",
       "      <td>1.61%</td>\n",
       "      <td>46.187</td>\n",
       "    </tr>\n",
       "    <tr>\n",
       "      <th>18</th>\n",
       "      <td>19</td>\n",
       "      <td>Jharkhand</td>\n",
       "      <td>328,598</td>\n",
       "      <td>297,204</td>\n",
       "      <td>1.57%</td>\n",
       "      <td>45.145</td>\n",
       "    </tr>\n",
       "    <tr>\n",
       "      <th>19</th>\n",
       "      <td>20</td>\n",
       "      <td>Uttarakhand</td>\n",
       "      <td>-</td>\n",
       "      <td>245,895</td>\n",
       "      <td>1.30%</td>\n",
       "      <td>37.351</td>\n",
       "    </tr>\n",
       "    <tr>\n",
       "      <th>20</th>\n",
       "      <td>21</td>\n",
       "      <td>Jammu &amp; Kashmir</td>\n",
       "      <td>-</td>\n",
       "      <td>155,956</td>\n",
       "      <td>0.83%</td>\n",
       "      <td>23.690</td>\n",
       "    </tr>\n",
       "    <tr>\n",
       "      <th>21</th>\n",
       "      <td>22</td>\n",
       "      <td>Himachal Pradesh</td>\n",
       "      <td>165,472</td>\n",
       "      <td>153,845</td>\n",
       "      <td>0.81%</td>\n",
       "      <td>23.369</td>\n",
       "    </tr>\n",
       "    <tr>\n",
       "      <th>22</th>\n",
       "      <td>23</td>\n",
       "      <td>Goa</td>\n",
       "      <td>80,449</td>\n",
       "      <td>73,170</td>\n",
       "      <td>0.39%</td>\n",
       "      <td>11.115</td>\n",
       "    </tr>\n",
       "    <tr>\n",
       "      <th>23</th>\n",
       "      <td>24</td>\n",
       "      <td>Tripura</td>\n",
       "      <td>55,984</td>\n",
       "      <td>49,845</td>\n",
       "      <td>0.26%</td>\n",
       "      <td>7.571</td>\n",
       "    </tr>\n",
       "    <tr>\n",
       "      <th>24</th>\n",
       "      <td>25</td>\n",
       "      <td>Chandigarh</td>\n",
       "      <td>-</td>\n",
       "      <td>42,114</td>\n",
       "      <td>0.22%</td>\n",
       "      <td>6.397</td>\n",
       "    </tr>\n",
       "    <tr>\n",
       "      <th>25</th>\n",
       "      <td>26</td>\n",
       "      <td>Puducherry</td>\n",
       "      <td>38,253</td>\n",
       "      <td>34,433</td>\n",
       "      <td>0.18%</td>\n",
       "      <td>5.230</td>\n",
       "    </tr>\n",
       "    <tr>\n",
       "      <th>26</th>\n",
       "      <td>27</td>\n",
       "      <td>Meghalaya</td>\n",
       "      <td>36,572</td>\n",
       "      <td>33,481</td>\n",
       "      <td>0.18%</td>\n",
       "      <td>5.086</td>\n",
       "    </tr>\n",
       "    <tr>\n",
       "      <th>27</th>\n",
       "      <td>28</td>\n",
       "      <td>Sikkim</td>\n",
       "      <td>32,496</td>\n",
       "      <td>28,723</td>\n",
       "      <td>0.15%</td>\n",
       "      <td>4.363</td>\n",
       "    </tr>\n",
       "    <tr>\n",
       "      <th>28</th>\n",
       "      <td>29</td>\n",
       "      <td>Manipur</td>\n",
       "      <td>31,790</td>\n",
       "      <td>27,870</td>\n",
       "      <td>0.15%</td>\n",
       "      <td>4.233</td>\n",
       "    </tr>\n",
       "    <tr>\n",
       "      <th>29</th>\n",
       "      <td>30</td>\n",
       "      <td>Nagaland</td>\n",
       "      <td>-</td>\n",
       "      <td>27,283</td>\n",
       "      <td>0.14%</td>\n",
       "      <td>4.144</td>\n",
       "    </tr>\n",
       "    <tr>\n",
       "      <th>30</th>\n",
       "      <td>31</td>\n",
       "      <td>Arunachal Pradesh</td>\n",
       "      <td>-</td>\n",
       "      <td>24,603</td>\n",
       "      <td>0.13%</td>\n",
       "      <td>3.737</td>\n",
       "    </tr>\n",
       "    <tr>\n",
       "      <th>31</th>\n",
       "      <td>32</td>\n",
       "      <td>Mizoram</td>\n",
       "      <td>26,503</td>\n",
       "      <td>22,287</td>\n",
       "      <td>0.12%</td>\n",
       "      <td>3.385</td>\n",
       "    </tr>\n",
       "    <tr>\n",
       "      <th>32</th>\n",
       "      <td>33</td>\n",
       "      <td>Andaman &amp; Nicobar Islands</td>\n",
       "      <td>-</td>\n",
       "      <td>-</td>\n",
       "      <td>-</td>\n",
       "      <td>-</td>\n",
       "    </tr>\n",
       "  </tbody>\n",
       "</table>\n",
       "</div>"
      ],
      "text/plain": [
       "   Rank                       Sate GSDP (Cr INR at Current prices 19-20)  \\\n",
       "0     1                Maharashtra                                     -   \n",
       "1     2                 Tamil Nadu                             1,845,853   \n",
       "2     3              Uttar Pradesh                             1,687,818   \n",
       "3     4                    Gujarat                                     -   \n",
       "4     5                  Karnataka                             1,631,977   \n",
       "5     6                West Bengal                             1,253,832   \n",
       "6     7                  Rajasthan                             1,020,989   \n",
       "7     8             Andhra Pradesh                               972,782   \n",
       "8     9                  Telangana                               969,604   \n",
       "9    10             Madhya Pradesh                               906,672   \n",
       "10   11                     Kerala                                     -   \n",
       "11   12                      Delhi                               856,112   \n",
       "12   13                    Haryana                               831,610   \n",
       "13   14                      Bihar                               611,804   \n",
       "14   15                     Punjab                               574,760   \n",
       "15   16                     Odisha                               521,275   \n",
       "16   17                      Assam                                     -   \n",
       "17   18               Chhattisgarh                               329,180   \n",
       "18   19                  Jharkhand                               328,598   \n",
       "19   20                Uttarakhand                                     -   \n",
       "20   21            Jammu & Kashmir                                     -   \n",
       "21   22           Himachal Pradesh                               165,472   \n",
       "22   23                        Goa                                80,449   \n",
       "23   24                    Tripura                                55,984   \n",
       "24   25                 Chandigarh                                     -   \n",
       "25   26                 Puducherry                                38,253   \n",
       "26   27                  Meghalaya                                36,572   \n",
       "27   28                     Sikkim                                32,496   \n",
       "28   29                    Manipur                                31,790   \n",
       "29   30                   Nagaland                                     -   \n",
       "30   31          Arunachal Pradesh                                     -   \n",
       "31   32                    Mizoram                                26,503   \n",
       "32   33  Andaman & Nicobar Islands                                     -   \n",
       "\n",
       "   GSDP (Cr INR at Current prices 18-19)   Share  Billion  \n",
       "0                              2,632,792  13.94%  399.921  \n",
       "1                              1,630,208   8.63%  247.629  \n",
       "2                              1,584,764   8.39%  240.726  \n",
       "3                              1,502,899   7.96%  228.290  \n",
       "4                              1,493,127   7.91%  226.806  \n",
       "5                              1,089,898   5.77%  165.556  \n",
       "6                                942,586   4.99%  143.179  \n",
       "7                                862,957   4.57%  131.083  \n",
       "8                                861,031   4.56%  130.791  \n",
       "9                                809,592   4.29%  122.977  \n",
       "10                               781,653   4.14%  118.733  \n",
       "11                               774,870   4.10%  117.703  \n",
       "12                               734,163   3.89%  111.519  \n",
       "13                               530,363   2.81%   80.562  \n",
       "14                               526,376   2.79%   79.957  \n",
       "15                               487,805   2.58%   74.098  \n",
       "16                               315,881   1.67%   47.982  \n",
       "17                               304,063   1.61%   46.187  \n",
       "18                               297,204   1.57%   45.145  \n",
       "19                               245,895   1.30%   37.351  \n",
       "20                               155,956   0.83%   23.690  \n",
       "21                               153,845   0.81%   23.369  \n",
       "22                                73,170   0.39%   11.115  \n",
       "23                                49,845   0.26%    7.571  \n",
       "24                                42,114   0.22%    6.397  \n",
       "25                                34,433   0.18%    5.230  \n",
       "26                                33,481   0.18%    5.086  \n",
       "27                                28,723   0.15%    4.363  \n",
       "28                                27,870   0.15%    4.233  \n",
       "29                                27,283   0.14%    4.144  \n",
       "30                                24,603   0.13%    3.737  \n",
       "31                                22,287   0.12%    3.385  \n",
       "32                                     -       -        -  "
      ]
     },
     "execution_count": 24,
     "metadata": {},
     "output_type": "execute_result"
    }
   ],
   "source": [
    "pd.DataFrame({\n",
    "    'Rank':Rank,\n",
    "    'Sate':State,\n",
    "    'GSDP (Cr INR at Current prices 19-20)':gspd1920,\n",
    "    'GSDP (Cr INR at Current prices 18-19)':gspd1819,\n",
    "    'Share':share,\n",
    "    'Billion':billion\n",
    "})"
   ]
  },
  {
   "cell_type": "markdown",
   "id": "e233d2ea",
   "metadata": {},
   "source": [
    "Q5. Scrape the details of trending repositories on Github.com.\n",
    "Url = https://github.com/\n",
    "You have to find the following details:\n",
    "A) Repository title\n",
    "B) Repository description\n",
    "C) Contributors count\n",
    "D) Language used"
   ]
  },
  {
   "cell_type": "code",
   "execution_count": null,
   "id": "a4df8249",
   "metadata": {},
   "outputs": [],
   "source": [
    "url ='https://github.com/trending'\n",
    "driver.get(url)"
   ]
  },
  {
   "cell_type": "code",
   "execution_count": 26,
   "id": "880e741f",
   "metadata": {},
   "outputs": [
    {
     "name": "stderr",
     "output_type": "stream",
     "text": [
      "<ipython-input-26-7a5762125005>:2: DeprecationWarning: find_elements_by_* commands are deprecated. Please use find_elements() instead\n",
      "  elem = driver.find_elements_by_xpath('/html/body/div[4]/main/div[3]/div/div[2]/article/h1/a')\n"
     ]
    },
    {
     "ename": "WebDriverException",
     "evalue": "Message: chrome not reachable\n  (Session info: chrome=96.0.4664.110)\nStacktrace:\nBacktrace:\n\tOrdinal0 [0x01176903+2517251]\n\tOrdinal0 [0x0110F8E1+2095329]\n\tOrdinal0 [0x01012710+1058576]\n\tOrdinal0 [0x010076A4+1013412]\n\tOrdinal0 [0x01007EA8+1015464]\n\tOrdinal0 [0x01009695+1021589]\n\tOrdinal0 [0x01003686+996998]\n\tOrdinal0 [0x01013A60+1063520]\n\tOrdinal0 [0x01065382+1397634]\n\tOrdinal0 [0x0105639B+1336219]\n\tOrdinal0 [0x010327A7+1189799]\n\tOrdinal0 [0x01033609+1193481]\n\tGetHandleVerifier [0x01305904+1577972]\n\tGetHandleVerifier [0x013B0B97+2279047]\n\tGetHandleVerifier [0x01206D09+534521]\n\tGetHandleVerifier [0x01205DB9+530601]\n\tOrdinal0 [0x01114FF9+2117625]\n\tOrdinal0 [0x011198A8+2136232]\n\tOrdinal0 [0x011199E2+2136546]\n\tOrdinal0 [0x01123541+2176321]\n\tBaseThreadInitThunk [0x7671FA29+25]\n\tRtlGetAppContainerNamedObjectPath [0x77787A9E+286]\n\tRtlGetAppContainerNamedObjectPath [0x77787A6E+238]\n",
     "output_type": "error",
     "traceback": [
      "\u001b[1;31m---------------------------------------------------------------------------\u001b[0m",
      "\u001b[1;31mWebDriverException\u001b[0m                        Traceback (most recent call last)",
      "\u001b[1;32m<ipython-input-26-7a5762125005>\u001b[0m in \u001b[0;36m<module>\u001b[1;34m\u001b[0m\n\u001b[0;32m      1\u001b[0m \u001b[0mtitle\u001b[0m \u001b[1;33m=\u001b[0m \u001b[1;33m[\u001b[0m\u001b[1;33m]\u001b[0m\u001b[1;33m\u001b[0m\u001b[1;33m\u001b[0m\u001b[0m\n\u001b[1;32m----> 2\u001b[1;33m \u001b[0melem\u001b[0m \u001b[1;33m=\u001b[0m \u001b[0mdriver\u001b[0m\u001b[1;33m.\u001b[0m\u001b[0mfind_elements_by_xpath\u001b[0m\u001b[1;33m(\u001b[0m\u001b[1;34m'/html/body/div[4]/main/div[3]/div/div[2]/article/h1/a'\u001b[0m\u001b[1;33m)\u001b[0m\u001b[1;33m\u001b[0m\u001b[1;33m\u001b[0m\u001b[0m\n\u001b[0m\u001b[0;32m      3\u001b[0m \u001b[1;32mfor\u001b[0m \u001b[0mi\u001b[0m \u001b[1;32min\u001b[0m \u001b[0melem\u001b[0m\u001b[1;33m:\u001b[0m\u001b[1;33m\u001b[0m\u001b[1;33m\u001b[0m\u001b[0m\n\u001b[0;32m      4\u001b[0m     \u001b[1;32mtry\u001b[0m\u001b[1;33m:\u001b[0m\u001b[1;33m\u001b[0m\u001b[1;33m\u001b[0m\u001b[0m\n\u001b[0;32m      5\u001b[0m         \u001b[0mtitle\u001b[0m\u001b[1;33m.\u001b[0m\u001b[0mappend\u001b[0m\u001b[1;33m(\u001b[0m\u001b[0mi\u001b[0m\u001b[1;33m.\u001b[0m\u001b[0mtext\u001b[0m\u001b[1;33m)\u001b[0m\u001b[1;33m\u001b[0m\u001b[1;33m\u001b[0m\u001b[0m\n",
      "\u001b[1;32m~\\anaconda3\\lib\\site-packages\\selenium\\webdriver\\remote\\webdriver.py\u001b[0m in \u001b[0;36mfind_elements_by_xpath\u001b[1;34m(self, xpath)\u001b[0m\n\u001b[0;32m    541\u001b[0m             \u001b[0mstacklevel\u001b[0m\u001b[1;33m=\u001b[0m\u001b[1;36m2\u001b[0m\u001b[1;33m,\u001b[0m\u001b[1;33m\u001b[0m\u001b[1;33m\u001b[0m\u001b[0m\n\u001b[0;32m    542\u001b[0m         )\n\u001b[1;32m--> 543\u001b[1;33m         \u001b[1;32mreturn\u001b[0m \u001b[0mself\u001b[0m\u001b[1;33m.\u001b[0m\u001b[0mfind_elements\u001b[0m\u001b[1;33m(\u001b[0m\u001b[0mby\u001b[0m\u001b[1;33m=\u001b[0m\u001b[0mBy\u001b[0m\u001b[1;33m.\u001b[0m\u001b[0mXPATH\u001b[0m\u001b[1;33m,\u001b[0m \u001b[0mvalue\u001b[0m\u001b[1;33m=\u001b[0m\u001b[0mxpath\u001b[0m\u001b[1;33m)\u001b[0m\u001b[1;33m\u001b[0m\u001b[1;33m\u001b[0m\u001b[0m\n\u001b[0m\u001b[0;32m    544\u001b[0m \u001b[1;33m\u001b[0m\u001b[0m\n\u001b[0;32m    545\u001b[0m     \u001b[1;32mdef\u001b[0m \u001b[0mfind_element_by_link_text\u001b[0m\u001b[1;33m(\u001b[0m\u001b[0mself\u001b[0m\u001b[1;33m,\u001b[0m \u001b[0mlink_text\u001b[0m\u001b[1;33m)\u001b[0m \u001b[1;33m->\u001b[0m \u001b[0mWebElement\u001b[0m\u001b[1;33m:\u001b[0m\u001b[1;33m\u001b[0m\u001b[1;33m\u001b[0m\u001b[0m\n",
      "\u001b[1;32m~\\anaconda3\\lib\\site-packages\\selenium\\webdriver\\remote\\webdriver.py\u001b[0m in \u001b[0;36mfind_elements\u001b[1;34m(self, by, value)\u001b[0m\n\u001b[0;32m   1277\u001b[0m         \u001b[1;31m# Return empty list if driver returns null\u001b[0m\u001b[1;33m\u001b[0m\u001b[1;33m\u001b[0m\u001b[1;33m\u001b[0m\u001b[0m\n\u001b[0;32m   1278\u001b[0m         \u001b[1;31m# See https://github.com/SeleniumHQ/selenium/issues/4555\u001b[0m\u001b[1;33m\u001b[0m\u001b[1;33m\u001b[0m\u001b[1;33m\u001b[0m\u001b[0m\n\u001b[1;32m-> 1279\u001b[1;33m         return self.execute(Command.FIND_ELEMENTS, {\n\u001b[0m\u001b[0;32m   1280\u001b[0m             \u001b[1;34m'using'\u001b[0m\u001b[1;33m:\u001b[0m \u001b[0mby\u001b[0m\u001b[1;33m,\u001b[0m\u001b[1;33m\u001b[0m\u001b[1;33m\u001b[0m\u001b[0m\n\u001b[0;32m   1281\u001b[0m             'value': value})['value'] or []\n",
      "\u001b[1;32m~\\anaconda3\\lib\\site-packages\\selenium\\webdriver\\remote\\webdriver.py\u001b[0m in \u001b[0;36mexecute\u001b[1;34m(self, driver_command, params)\u001b[0m\n\u001b[0;32m    422\u001b[0m         \u001b[0mresponse\u001b[0m \u001b[1;33m=\u001b[0m \u001b[0mself\u001b[0m\u001b[1;33m.\u001b[0m\u001b[0mcommand_executor\u001b[0m\u001b[1;33m.\u001b[0m\u001b[0mexecute\u001b[0m\u001b[1;33m(\u001b[0m\u001b[0mdriver_command\u001b[0m\u001b[1;33m,\u001b[0m \u001b[0mparams\u001b[0m\u001b[1;33m)\u001b[0m\u001b[1;33m\u001b[0m\u001b[1;33m\u001b[0m\u001b[0m\n\u001b[0;32m    423\u001b[0m         \u001b[1;32mif\u001b[0m \u001b[0mresponse\u001b[0m\u001b[1;33m:\u001b[0m\u001b[1;33m\u001b[0m\u001b[1;33m\u001b[0m\u001b[0m\n\u001b[1;32m--> 424\u001b[1;33m             \u001b[0mself\u001b[0m\u001b[1;33m.\u001b[0m\u001b[0merror_handler\u001b[0m\u001b[1;33m.\u001b[0m\u001b[0mcheck_response\u001b[0m\u001b[1;33m(\u001b[0m\u001b[0mresponse\u001b[0m\u001b[1;33m)\u001b[0m\u001b[1;33m\u001b[0m\u001b[1;33m\u001b[0m\u001b[0m\n\u001b[0m\u001b[0;32m    425\u001b[0m             response['value'] = self._unwrap_value(\n\u001b[0;32m    426\u001b[0m                 response.get('value', None))\n",
      "\u001b[1;32m~\\anaconda3\\lib\\site-packages\\selenium\\webdriver\\remote\\errorhandler.py\u001b[0m in \u001b[0;36mcheck_response\u001b[1;34m(self, response)\u001b[0m\n\u001b[0;32m    245\u001b[0m                 \u001b[0malert_text\u001b[0m \u001b[1;33m=\u001b[0m \u001b[0mvalue\u001b[0m\u001b[1;33m[\u001b[0m\u001b[1;34m'alert'\u001b[0m\u001b[1;33m]\u001b[0m\u001b[1;33m.\u001b[0m\u001b[0mget\u001b[0m\u001b[1;33m(\u001b[0m\u001b[1;34m'text'\u001b[0m\u001b[1;33m)\u001b[0m\u001b[1;33m\u001b[0m\u001b[1;33m\u001b[0m\u001b[0m\n\u001b[0;32m    246\u001b[0m             \u001b[1;32mraise\u001b[0m \u001b[0mexception_class\u001b[0m\u001b[1;33m(\u001b[0m\u001b[0mmessage\u001b[0m\u001b[1;33m,\u001b[0m \u001b[0mscreen\u001b[0m\u001b[1;33m,\u001b[0m \u001b[0mstacktrace\u001b[0m\u001b[1;33m,\u001b[0m \u001b[0malert_text\u001b[0m\u001b[1;33m)\u001b[0m  \u001b[1;31m# type: ignore[call-arg]  # mypy is not smart enough here\u001b[0m\u001b[1;33m\u001b[0m\u001b[1;33m\u001b[0m\u001b[0m\n\u001b[1;32m--> 247\u001b[1;33m         \u001b[1;32mraise\u001b[0m \u001b[0mexception_class\u001b[0m\u001b[1;33m(\u001b[0m\u001b[0mmessage\u001b[0m\u001b[1;33m,\u001b[0m \u001b[0mscreen\u001b[0m\u001b[1;33m,\u001b[0m \u001b[0mstacktrace\u001b[0m\u001b[1;33m)\u001b[0m\u001b[1;33m\u001b[0m\u001b[1;33m\u001b[0m\u001b[0m\n\u001b[0m\u001b[0;32m    248\u001b[0m \u001b[1;33m\u001b[0m\u001b[0m\n\u001b[0;32m    249\u001b[0m     \u001b[1;32mdef\u001b[0m \u001b[0m_value_or_default\u001b[0m\u001b[1;33m(\u001b[0m\u001b[0mself\u001b[0m\u001b[1;33m,\u001b[0m \u001b[0mobj\u001b[0m\u001b[1;33m:\u001b[0m \u001b[0mMapping\u001b[0m\u001b[1;33m[\u001b[0m\u001b[0m_KT\u001b[0m\u001b[1;33m,\u001b[0m \u001b[0m_VT\u001b[0m\u001b[1;33m]\u001b[0m\u001b[1;33m,\u001b[0m \u001b[0mkey\u001b[0m\u001b[1;33m:\u001b[0m \u001b[0m_KT\u001b[0m\u001b[1;33m,\u001b[0m \u001b[0mdefault\u001b[0m\u001b[1;33m:\u001b[0m \u001b[0m_VT\u001b[0m\u001b[1;33m)\u001b[0m \u001b[1;33m->\u001b[0m \u001b[0m_VT\u001b[0m\u001b[1;33m:\u001b[0m\u001b[1;33m\u001b[0m\u001b[1;33m\u001b[0m\u001b[0m\n",
      "\u001b[1;31mWebDriverException\u001b[0m: Message: chrome not reachable\n  (Session info: chrome=96.0.4664.110)\nStacktrace:\nBacktrace:\n\tOrdinal0 [0x01176903+2517251]\n\tOrdinal0 [0x0110F8E1+2095329]\n\tOrdinal0 [0x01012710+1058576]\n\tOrdinal0 [0x010076A4+1013412]\n\tOrdinal0 [0x01007EA8+1015464]\n\tOrdinal0 [0x01009695+1021589]\n\tOrdinal0 [0x01003686+996998]\n\tOrdinal0 [0x01013A60+1063520]\n\tOrdinal0 [0x01065382+1397634]\n\tOrdinal0 [0x0105639B+1336219]\n\tOrdinal0 [0x010327A7+1189799]\n\tOrdinal0 [0x01033609+1193481]\n\tGetHandleVerifier [0x01305904+1577972]\n\tGetHandleVerifier [0x013B0B97+2279047]\n\tGetHandleVerifier [0x01206D09+534521]\n\tGetHandleVerifier [0x01205DB9+530601]\n\tOrdinal0 [0x01114FF9+2117625]\n\tOrdinal0 [0x011198A8+2136232]\n\tOrdinal0 [0x011199E2+2136546]\n\tOrdinal0 [0x01123541+2176321]\n\tBaseThreadInitThunk [0x7671FA29+25]\n\tRtlGetAppContainerNamedObjectPath [0x77787A9E+286]\n\tRtlGetAppContainerNamedObjectPath [0x77787A6E+238]\n"
     ]
    }
   ],
   "source": [
    "title = []\n",
    "elem = driver.find_elements_by_xpath('/html/body/div[4]/main/div[3]/div/div[2]/article/h1/a')\n",
    "for i in elem:\n",
    "    try:\n",
    "        title.append(i.text)\n",
    "    except NoSuchElementException:\n",
    "        titel.append('-')\n",
    "desc = []\n",
    "element = driver.find_elements_by_xpath('/html/body/div[4]/main/div[3]/div/div[2]/article/p')\n",
    "for i in element:\n",
    "    try:\n",
    "        desc.append(i.text)\n",
    "    except NoSuchElementException:\n",
    "        desc.append('-')\n",
    "\n",
    "lang = []\n",
    "language = driver.find_elements_by_xpath('/html/body/div[4]/main/div[3]/div/div[2]/article/div[2]/span[1]/span[2]')\n",
    "for i in language:\n",
    "    try:\n",
    "        lang.append(i.text)\n",
    "    except NoSuchElementException:\n",
    "        lang.append('-')\n",
    "count = []\n",
    "counts = driver.find_elements_by_xpath('/html/body/div[4]/main/div[3]/div/div[2]/article/div[2]/a[1]')\n",
    "for i in counts:\n",
    "    try:\n",
    "        count.append(i.text)\n",
    "    except NoSuchElementException:\n",
    "        count.append('--')\n"
   ]
  },
  {
   "cell_type": "markdown",
   "id": "b9f9eebe",
   "metadata": {},
   "source": [
    "Q6. Scrape the details of top 100 songs on billboard.com.\n",
    "Url = https://www.billboard.com/\n",
    "You have to find the following details:\n",
    "A) Song name\n",
    "B) Artist name\n",
    "C) Last week rank\n",
    "D) Peak rank\n",
    "E) Weeks on board\n",
    "Note: - From the home page you have to click on the charts option then hot 100-page link through code"
   ]
  },
  {
   "cell_type": "code",
   "execution_count": null,
   "id": "af139ebc",
   "metadata": {},
   "outputs": [],
   "source": [
    "url = 'https://www.billboard.com/'\n",
    "driver.get(url)"
   ]
  },
  {
   "cell_type": "code",
   "execution_count": null,
   "id": "610763fd",
   "metadata": {},
   "outputs": [],
   "source": [
    "driver.find_element_by_xpath('/html/body/div[2]/div[2]/div[2]/nav/ul/li[3]/a').click()"
   ]
  },
  {
   "cell_type": "code",
   "execution_count": null,
   "id": "45f4308b",
   "metadata": {},
   "outputs": [],
   "source": [
    "song = []\n",
    "songs = driver.find_elements_by_xpath('/html/body/main/div/div/div[7]/div/ol/li/button/span[2]/span[1]')\n",
    "for i in songs:\n",
    "    if(i==None):\n",
    "        song.append('-')\n",
    "    else:\n",
    "        song.append(i.text)\n",
    "artist =[]\n",
    "artis = driver.find_elements_by_xpath('/html/body/main/div/div/div[7]/div/ol/li/button/span[2]/span[2]')\n",
    "for i in artis:\n",
    "     artist.append(i.text)\n",
    "        \n",
    "lastweekrank =[]\n",
    "week = driver.find_elements_by_xpath('/html/body/main/div/div/div[7]/div/ol/li/button/div/div[1]')\n",
    "for i in week:\n",
    "    try:\n",
    "        lastweekrank.append(i.text)\n",
    "    except NoSuchElementException:\n",
    "        lastweekrank.append('-')\n",
    "\n",
    "peek = []\n",
    "p = driver.find_elements_by_xpath('/html/body/main/div/div/div[7]/div/ol/li/button/div/div[2]')\n",
    "for i in p:\n",
    "    peek.append(i.text)\n",
    "\n",
    "wksonchart = []\n",
    "wks = driver.find_elements_by_xpath('/html/body/main/div/div/div[7]/div/ol/li/button/div/div[3]')\n",
    "for i in wks:\n",
    "    wksonchart.append(i.text)"
   ]
  },
  {
   "cell_type": "code",
   "execution_count": null,
   "id": "1f526413",
   "metadata": {},
   "outputs": [],
   "source": [
    "len(wksonchart)"
   ]
  },
  {
   "cell_type": "code",
   "execution_count": null,
   "id": "85a369b5",
   "metadata": {},
   "outputs": [],
   "source": [
    "pd.DataFrame({\n",
    "    'songs':song,\n",
    "    'artist':artist,\n",
    "    'lastweekrank':lastweekrank,\n",
    "    'peek':peek,\n",
    "    'wksonchart':wksonchart\n",
    "})"
   ]
  },
  {
   "cell_type": "markdown",
   "id": "b9482c88",
   "metadata": {},
   "source": [
    "Q7. Scrape the details of Data science recruiters from naukri.com.\n",
    "Url = https://www.naukri.com/\n",
    "You have to find the following details:\n",
    "A) Name\n",
    "B) Designation\n",
    "C) Company\n",
    "D) Skills they hire for\n",
    "E) Location\n",
    "Note: - From naukri.com homepage click on the recruiters option and the on the search pane type Data science and \n",
    "click on search. All this should be done through code"
   ]
  },
  {
   "cell_type": "code",
   "execution_count": null,
   "id": "50b968dd",
   "metadata": {},
   "outputs": [],
   "source": [
    "url = ' https://www.naukri.com/'\n",
    "driver.get(url)"
   ]
  },
  {
   "cell_type": "code",
   "execution_count": null,
   "id": "a969d846",
   "metadata": {},
   "outputs": [],
   "source": [
    "try:\n",
    "    link= driver.find_element_by_xpath('/html/body/div[1]/div[1]/div/ul[1]/li[2]/a').get_attribute('href')\n",
    "    driver.get(link)\n",
    "except NoSuchElementException:\n",
    "    print('No element Found')"
   ]
  },
  {
   "cell_type": "code",
   "execution_count": null,
   "id": "6c3f95a0",
   "metadata": {},
   "outputs": [],
   "source": [
    "search =driver.find_element_by_xpath('//div[@class=\"inpWrap\"]/input[@class=\"sugInp\"]')\n",
    "search.send_keys(\"Data Science\")\n",
    "driver.find_element_by_xpath('//button[@id=\"qsbFormBtn\"]').click()"
   ]
  },
  {
   "cell_type": "code",
   "execution_count": null,
   "id": "47347372",
   "metadata": {},
   "outputs": [],
   "source": [
    "Companies = []\n",
    "degignation =[]\n",
    "locations =[]\n",
    "hirefor=[]\n",
    "company = driver.find_elements_by_xpath('//p[@class=\"highlightable\"]/a[2]')\n",
    "for i in company:\n",
    "    Companies.append(i.text)\n",
    "desg = driver.find_elements_by_xpath('//p[@class=\"highlightable\"]/span[1]')\n",
    "for i in desg:\n",
    "    degignation.append(i.text)\n",
    "location = driver.find_elements_by_xpath('//p[@class=\"highlightable\"]/span[2]')\n",
    "for i in location:\n",
    "    try:\n",
    "        locations.append(i.text)\n",
    "    except NoSuchElementException:\n",
    "        locations.append('-')\n",
    "hire = driver.find_elements_by_xpath('//div[@class=\"hireSec highlightable\"]')\n",
    "for i in hire:\n",
    "    hirefor.append(i.text)"
   ]
  },
  {
   "cell_type": "code",
   "execution_count": null,
   "id": "bf0d18aa",
   "metadata": {},
   "outputs": [],
   "source": [
    "len(locations)"
   ]
  },
  {
   "cell_type": "code",
   "execution_count": null,
   "id": "863a8814",
   "metadata": {},
   "outputs": [],
   "source": [
    "pd.DataFrame({\n",
    "    'Companies':Companies,\n",
    "    'degignation':degignation,\n",
    "    'hirefor':hirefor,\n",
    "    'locations':locations\n",
    "})"
   ]
  },
  {
   "cell_type": "code",
   "execution_count": null,
   "id": "837c7aca",
   "metadata": {},
   "outputs": [],
   "source": []
  },
  {
   "cell_type": "markdown",
   "id": "4b245b1c",
   "metadata": {},
   "source": [
    "Q8. Scrape the details of Highest selling novels.\n",
    "Url = https://www.theguardian.com/news/datablog/2012/aug/09/best-selling-books-all-time-fifty-shades-grey\u0002compare/\n",
    "You have to find the following details:\n",
    "A) Book name\n",
    "B) Author name\n",
    "C) Volumes sold\n",
    "D) Publisher\n",
    "E) Genre"
   ]
  },
  {
   "cell_type": "code",
   "execution_count": null,
   "id": "a78dc92c",
   "metadata": {},
   "outputs": [],
   "source": [
    "url ='https://www.theguardian.com/news/datablog/2012/aug/09/best-selling-books-all-time-fifty-shades-grey-compare'\n",
    "driver.get(url)"
   ]
  },
  {
   "cell_type": "code",
   "execution_count": null,
   "id": "30c7819b",
   "metadata": {},
   "outputs": [],
   "source": [
    "BookName = []\n",
    "name =driver.find_elements_by_xpath('/html/body/div/div[2]/div[2]/div/div[2]/div/table/tbody/tr/td[2]')\n",
    "for i in name:\n",
    "    try:\n",
    "        BookName.append(i.text)\n",
    "    except NoSuchElementException:\n",
    "        BookName.append('-')\n",
    "        \n",
    "Author = []\n",
    "name =driver.find_elements_by_xpath('/html/body/div/div[2]/div[2]/div/div[2]/div/table/tbody/tr/td[3]')\n",
    "for i in name:\n",
    "    try:\n",
    "        Author.append(i.text)\n",
    "    except NoSuchElementException:\n",
    "        Author.append('-')\n",
    "        \n",
    "volume = []\n",
    "name =driver.find_elements_by_xpath('/html/body/div/div[2]/div[2]/div/div[2]/div/table/tbody/tr/td[4]')\n",
    "for i in name:\n",
    "    try:\n",
    "        volume.append(i.text)\n",
    "    except NoSuchElementException:\n",
    "        volume.append('-')\n",
    "        \n",
    "publisher = []\n",
    "name =driver.find_elements_by_xpath('/html/body/div/div[2]/div[2]/div/div[2]/div/table/tbody/tr/td[5]')\n",
    "for i in name:\n",
    "    try:\n",
    "        publisher.append(i.text)\n",
    "    except NoSuchElementException:\n",
    "        publisher.append('-')"
   ]
  },
  {
   "cell_type": "code",
   "execution_count": null,
   "id": "68fd4749",
   "metadata": {},
   "outputs": [],
   "source": [
    "pd.DataFrame({\n",
    "    'BookName':BookName,\n",
    "    'Author':Author,\n",
    "    'volume':volume,\n",
    "    'publisher':publisher\n",
    "})"
   ]
  },
  {
   "cell_type": "markdown",
   "id": "ca21d6ed",
   "metadata": {},
   "source": [
    "Q9. Scrape the details most watched tv series of all time from imdb.com.\n",
    " Url = https://www.imdb.com/list/ls095964455/\n",
    "You have to find the following details:\n",
    "A) Name\n",
    "B) Year span\n",
    "C) Genre\n",
    "D) Run time\n",
    "E) Ratings\n",
    "F) Votes"
   ]
  },
  {
   "cell_type": "code",
   "execution_count": null,
   "id": "a11629fc",
   "metadata": {},
   "outputs": [],
   "source": [
    "url ='https://www.imdb.com/list/ls095964455/'\n",
    "driver.get(url)"
   ]
  },
  {
   "cell_type": "code",
   "execution_count": null,
   "id": "3a6bcf9a",
   "metadata": {},
   "outputs": [],
   "source": [
    "Titles = []\n",
    "Year = []\n",
    "run_time = []\n",
    "Genre = []\n",
    "Rating =[]\n",
    "try:\n",
    "    titles = driver.find_elements_by_xpath('//h3[@class=\"lister-item-header\"]/a')\n",
    "    for i in titles:\n",
    "        Titles.append(i.text)\n",
    "    year = driver.find_elements_by_xpath('//span[@class=\"lister-item-year text-muted unbold\"]')\n",
    "    for i in year:\n",
    "        Year.append(i.text)\n",
    "    run = driver.find_elements_by_xpath('//p[@class=\"text-muted text-small\"]/span[3]')\n",
    "    for i in run:\n",
    "        run_time.append(i.text)\n",
    "    genre = driver.find_elements_by_xpath('//p[@class=\"text-muted text-small\"]/span[5]')\n",
    "    for i in genre:\n",
    "        Genre.append(i.text)\n",
    "    rate = driver.find_elements_by_xpath('//div[@class=\"ipl-rating-star small\"]/span[2]')\n",
    "    for i in rate:\n",
    "        Rating.append(i.text)\n",
    "    vote = driver.find_elements_by_xpath('//p[@class=\"text-muted text-smalll\"]/span[2]')\n",
    "except NoSuchElementException:\n",
    "    print('-')"
   ]
  },
  {
   "cell_type": "code",
   "execution_count": null,
   "id": "26894719",
   "metadata": {},
   "outputs": [],
   "source": [
    "pd.DataFrame({\n",
    "    'Titles':Titles,\n",
    "    'Year':Year,\n",
    "    'run_time':run_time,\n",
    "    'Genre':Genre,\n",
    "    'Rating':Rating\n",
    "})"
   ]
  },
  {
   "cell_type": "markdown",
   "id": "42d84c12",
   "metadata": {},
   "source": [
    "Q10. Details of Datasets from UCI machine learning repositories.\n",
    " Url = https://archive.ics.uci.edu/\n",
    " You have to find the following details:\n",
    "A) Dataset name\n",
    "B) Data type\n",
    "C) Task\n",
    "D) Attribute type\n",
    "E) No of instances\n",
    "F) No of attribute\n",
    "G) Year\n",
    "Note: - from the home page you have to go to the Show All Dataset page through code"
   ]
  },
  {
   "cell_type": "code",
   "execution_count": null,
   "id": "1fb6be46",
   "metadata": {},
   "outputs": [],
   "source": [
    "url = ' https://archive.ics.uci.edu/'\n",
    "driver.get(url)"
   ]
  },
  {
   "cell_type": "code",
   "execution_count": null,
   "id": "03ad8324",
   "metadata": {},
   "outputs": [],
   "source": [
    "driver.find_element_by_xpath('/html/body/table[1]/tbody/tr/td[2]/span[2]/a').click()"
   ]
  },
  {
   "cell_type": "code",
   "execution_count": null,
   "id": "d22a6448",
   "metadata": {},
   "outputs": [],
   "source": [
    "Name = []\n",
    "datatype = []\n",
    "defaulttask = []\n",
    "attribute = []\n",
    "no_of_instance = []\n",
    "no_of_attribute = []\n",
    "name = driver.find_elements_by_xpath('/html/body/table[2]/tbody/tr/td[2]/table[2]/tbody/tr/td[1]')\n",
    "for i in name:\n",
    "    Name.append(i.text)\n",
    "type = driver.find_elements_by_xpath('/html/body/table[2]/tbody/tr/td[2]/table[2]/tbody/tr/td[2]')\n",
    "for i in type:\n",
    "    datatype.append(i.text)\n",
    "task = driver.find_elements_by_xpath('/html/body/table[2]/tbody/tr/td[2]/table[2]/tbody/tr/td[3]')\n",
    "for i in task:\n",
    "    defaulttask.append(i.text)\n",
    "attr = driver.find_elements_by_xpath('/html/body/table[2]/tbody/tr/td[2]/table[2]/tbody/tr/td[4]')\n",
    "for i in attr:\n",
    "    attribute.append(i.text)\n",
    "instance = driver.find_elements_by_xpath('/html/body/table[2]/tbody/tr/td[2]/table[2]/tbody/tr/td[5]')\n",
    "for i in instance:\n",
    "    no_of_instance.append(i.text)\n",
    "noattr = driver.find_elements_by_xpath('/html/body/table[2]/tbody/tr/td[2]/table[2]/tbody/tr/td[6]')\n",
    "for i in noattr:\n",
    "    no_of_attribute.append(i.text)"
   ]
  },
  {
   "cell_type": "code",
   "execution_count": null,
   "id": "69a95570",
   "metadata": {},
   "outputs": [],
   "source": [
    "pd.DataFrame({\n",
    "    'Name':Name,\n",
    "    'datatype':datatype,\n",
    "    'defaulttask':defaulttask,\n",
    "    'attribute':attribute,\n",
    "    'no_of_instance':no_of_instance,\n",
    "    'no_of_attribute':no_of_attribute\n",
    "})"
   ]
  },
  {
   "cell_type": "code",
   "execution_count": null,
   "id": "d894f925",
   "metadata": {},
   "outputs": [],
   "source": []
  },
  {
   "cell_type": "code",
   "execution_count": null,
   "id": "b7f436f3",
   "metadata": {},
   "outputs": [],
   "source": []
  },
  {
   "cell_type": "code",
   "execution_count": null,
   "id": "96733791",
   "metadata": {},
   "outputs": [],
   "source": []
  }
 ],
 "metadata": {
  "kernelspec": {
   "display_name": "Python 3",
   "language": "python",
   "name": "python3"
  },
  "language_info": {
   "codemirror_mode": {
    "name": "ipython",
    "version": 3
   },
   "file_extension": ".py",
   "mimetype": "text/x-python",
   "name": "python",
   "nbconvert_exporter": "python",
   "pygments_lexer": "ipython3",
   "version": "3.8.8"
  }
 },
 "nbformat": 4,
 "nbformat_minor": 5
}
